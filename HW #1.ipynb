{
 "cells": [
  {
   "cell_type": "markdown",
   "metadata": {},
   "source": [
    "# Homework 1: Introduction to Jupyter and GitHub\n",
    "\n",
    "**Due Friday, April 10.**\n",
    "\n",
    "Brian Abaoag\n",
    "\n",
    "### Homework checklist\n",
    "\n",
    "Before submitting, make sure that you\n",
    "\n",
    "- Fill in your name in the space above\n",
    "- Cite any resources that you used while working on this homework\n",
    "- 4. Insert and fill in a new markdown cell\n",
    "- 5. Insert and fill in a new code cell"
   ]
  },
  {
   "cell_type": "markdown",
   "metadata": {},
   "source": [
    "## Introduction\n",
    "\n",
    "Now that you have **Python 3** and **Jupyter** installed, you can open this notebook in Jupyter. How you do this might vary a bit from system to system, but a common approach is to run `jupyter notebook` from the command line (a.k.a. terminal) in the folder where you've downloaded this file (`homework-1.ipynb`). \n",
    "\n",
    "We won't be running anything else directly from the terminal in this course, but more information is available [here](https://swcarpentry.github.io/shell-novice/) if you're interested. "
   ]
  },
  {
   "cell_type": "markdown",
   "metadata": {},
   "source": [
    "## 4. Practice basic Jupyter I\n",
    "\n",
    "You may have noticed that the text in this document is organized into discrete blocks called cells. You can click on any cell to select it, and double click to edit. Edit the first cell to enter your name. Once you're done, you can execute the code (or format the text) in the cell by using the menu bar above, or with the keyboard shortcut `shift + enter`.\n",
    "\n",
    "Jupyter notebooks use a lightweight language called [Markdown](https://en.wikipedia.org/wiki/Markdown) for formatting plain text. Here is a [guide](https://github.com/adam-p/markdown-here/wiki/Markdown-Cheatsheet) to some common Markdown notation. You can also use Markdown to format equations by enclosing them in `$` symbols! Equation formatting follows $\\LaTeX$ conventions.\n",
    "\n",
    "Let's practice using Jupyter and Markdown by:  \n",
    "1. Inserting a new cell below this one. To do this, select this cell and select `Insert` > `Insert Cell Below` from the menu.  \n",
    "2. Click on the new cell and change its type to Markdown by selecting it and selecting `Cell` > `Cell Type` > `Markdown` from the menu.  \n",
    "3. Add a heading in that cell with a single `#`, and a subheading with `##`.  \n",
    "4. Now add a numbered list below that. You can also generated un-numbered lists by using `*` or other starting characters.  \n",
    "5. Add an equation to your text box using Latex.  "
   ]
  },
  {
   "cell_type": "markdown",
   "metadata": {},
   "source": [
    "# List of Variety Shows \n",
    "## (With Members)\n",
    "\n",
    "1. Running Man\n",
    "  * Yoo Jae-suk, Ji Suk-jin, Kim Jong-kook, Gary, Haha, Lee Kwang-soo, Yang Se-chan, Song Ji-hyo, Jeon So-min (**_a._**) \n",
    "  \n",
    "  \n",
    "2. Infinite Challenge \n",
    "  * Yoo Jae-suk, Park Myeong-su, Jeong Jun-ha, Haha, Yang Se-hyung, Jo Se-ho (**_b._**)\n",
    "  \n",
    "  \n",
    "3. Knowing Brothers\n",
    "  * Min Kyung-hoon, Kim Young-chul, Kang Ho-Dong, Lee Sang-min, Kim Hee-chul, Seo Jang-hoon, Lee Soo-geun (**_c._**)\n",
    "  \n",
    "  \n",
    "4. Michuri 8-1000 (Season 1)\n",
    "  * Jennie, Yoo Jae-suk, Yang Se-hyung, Jang Do-yeon, Son Dam-bi, Song Kang, Kim Sang-ho, Kang Ki-young, Im Soo-hyang (**_d._**)\n",
    "  \n",
    "  \n",
    "5. TWICE TV\n",
    "  * Dahyun, Mina, Sana, Momo, Jihyo, Nayeon, Tzuyu, Chaeyoung, Jeongyoung (**_e._**)\n",
    "  \n",
    "  \n",
    "6. ReVelUp\n",
    "  * Wendy, Yeri, Irene, Joy, Seulgi (**_f._**)\n",
    " \n",
    " \n",
    "# Equations\n",
    "\n",
    "1. Quadratic Equation: $ax^2+bx+c=0$ (**_g._**)\n",
    "\n",
    "\n",
    "2. Newton's Second Law: $\\vec{F}=m\\vec{a}$ (**_h._**) \n",
    "\n",
    "\n",
    "3. Pythagorean Theorem: $a^2+b^2=c^2$ (**_i._**)"
   ]
  },
  {
   "cell_type": "markdown",
   "metadata": {},
   "source": [
    "## 5. Practice basic Jupyter II\n",
    "\n",
    "Let's now do some light practice with code cells in Jupyter:\n",
    "1. Insert another cell below this one. By default, it will be a code cell.  \n",
    "2. Define a variable in that cell. For example, we could set `x = 3`.\n",
    "3. Now let's insert another new cell below that one. Print out the variable that you defined in the previous cell. For the example above, I could write `print(x)`.  \n",
    "\n",
    "Note that, as shown above, variables defined in one cell still hold their values in another cell! Each cell is not a separate compute environment. **Variables are shared across the entire notebook.** This is important to keep in mind when you are coding, so that you don't accidentally use a variable that you might not have intended to use."
   ]
  },
  {
   "cell_type": "code",
   "execution_count": 23,
   "metadata": {},
   "outputs": [],
   "source": [
    "x = 6\n"
   ]
  },
  {
   "cell_type": "code",
   "execution_count": 25,
   "metadata": {},
   "outputs": [
    {
     "name": "stdout",
     "output_type": "stream",
     "text": [
      "6\n"
     ]
    }
   ],
   "source": [
    "print (x)"
   ]
  },
  {
   "cell_type": "code",
   "execution_count": 28,
   "metadata": {},
   "outputs": [],
   "source": [
    "x = 2"
   ]
  },
  {
   "cell_type": "code",
   "execution_count": 29,
   "metadata": {},
   "outputs": [
    {
     "name": "stdout",
     "output_type": "stream",
     "text": [
      "2\n"
     ]
    }
   ],
   "source": [
    "print (x)"
   ]
  },
  {
   "cell_type": "code",
   "execution_count": 30,
   "metadata": {},
   "outputs": [],
   "source": [
    "x = 77"
   ]
  },
  {
   "cell_type": "code",
   "execution_count": 31,
   "metadata": {},
   "outputs": [
    {
     "name": "stdout",
     "output_type": "stream",
     "text": [
      "77\n"
     ]
    }
   ],
   "source": [
    "print (x)"
   ]
  },
  {
   "cell_type": "code",
   "execution_count": 12,
   "metadata": {},
   "outputs": [
    {
     "name": "stdout",
     "output_type": "stream",
     "text": [
      "4\n"
     ]
    }
   ],
   "source": [
    "x = 4"
   ]
  },
  {
   "cell_type": "code",
   "execution_count": 13,
   "metadata": {},
   "outputs": [
    {
     "name": "stdout",
     "output_type": "stream",
     "text": [
      "4\n"
     ]
    }
   ],
   "source": [
    "print (x)"
   ]
  },
  {
   "cell_type": "code",
   "execution_count": 14,
   "metadata": {},
   "outputs": [
    {
     "name": "stdout",
     "output_type": "stream",
     "text": [
      "16\n"
     ]
    }
   ],
   "source": [
    "print (x*x)"
   ]
  },
  {
   "cell_type": "code",
   "execution_count": 15,
   "metadata": {},
   "outputs": [
    {
     "name": "stdout",
     "output_type": "stream",
     "text": [
      "2.0\n"
     ]
    }
   ],
   "source": [
    "print (x-(x/2))"
   ]
  },
  {
   "cell_type": "code",
   "execution_count": 18,
   "metadata": {},
   "outputs": [
    {
     "name": "stdout",
     "output_type": "stream",
     "text": [
      "176\n"
     ]
    }
   ],
   "source": [
    "print (x+(43*x))"
   ]
  },
  {
   "cell_type": "markdown",
   "metadata": {},
   "source": [
    "# Websites Used \n",
    "\n",
    "\n",
    "* (a-i). Google Search (google.com)\n",
    "    Google.com was used to search show titles and information about the various topics listed in \"List of Variety Shows\" &  \"Equations\"\n",
    "    \n",
    "    \n",
    "* Markdown Cheatsheet (https://github.com/adam-p/markdown-here/wiki/Markdown-Cheatsheet)\n",
    "    Markdown Cheatsheet was used as a reference to use \"markdown\" in the Jupyter notebook for homework #1\n",
    "\n",
    "\n",
    "* PHYS177 Website (https://physics177-2020.github.io/)\n",
    "    PHYS177 Main Website was used to get started and be familiar with Jupyter notebooks and Python coding. "
   ]
  },
  {
   "cell_type": "markdown",
   "metadata": {},
   "source": [
    "## 6. Submit the homework assignment\n",
    "\n",
    "First, save your modified version of this file by using the shortcut `contrl+s` or by selecting `File` > `Save and Checkpoint` from the menu. Next, upload it to your GitHub repository for this homework. "
   ]
  }
 ],
 "metadata": {
  "kernelspec": {
   "display_name": "Python 3",
   "language": "python",
   "name": "python3"
  },
  "language_info": {
   "codemirror_mode": {
    "name": "ipython",
    "version": 3
   },
   "file_extension": ".py",
   "mimetype": "text/x-python",
   "name": "python",
   "nbconvert_exporter": "python",
   "pygments_lexer": "ipython3",
   "version": "3.7.6"
  },
  "toc": {
   "base_numbering": 1,
   "nav_menu": {},
   "number_sections": true,
   "sideBar": true,
   "skip_h1_title": false,
   "title_cell": "Table of Contents",
   "title_sidebar": "Contents",
   "toc_cell": false,
   "toc_position": {},
   "toc_section_display": true,
   "toc_window_display": false
  }
 },
 "nbformat": 4,
 "nbformat_minor": 2
}
